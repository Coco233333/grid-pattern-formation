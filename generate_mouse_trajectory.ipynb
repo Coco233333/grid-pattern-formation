{
 "cells": [
  {
   "cell_type": "code",
   "execution_count": 1,
   "metadata": {},
   "outputs": [],
   "source": [
    "import numpy as np\n",
    "import matplotlib.pyplot as plt\n",
    "import seaborn as sns\n",
    "sns.set()\n",
    "\n",
    "from tqdm import tqdm_notebook as tqdm\n",
    "\n",
    "import tensorflow as tf\n",
    "import h5py"
   ]
  },
  {
   "cell_type": "code",
   "execution_count": 2,
   "metadata": {},
   "outputs": [],
   "source": [
    "def min_dist_angle(position, direction, box_size):\n",
    "    #which wall is it close to?\n",
    "    x, y = position\n",
    "    dists = [box_size-x, box_size-y, box_size+x, box_size+y]\n",
    "    d_wall = np.min(dists)\n",
    "    angles = np.arange(4)*np.pi/2\n",
    "    theta = angles[np.argmin(dists)]\n",
    "    a_wall = direction - theta\n",
    "    a_wall = (a_wall + np.pi) % (2*np.pi) - np.pi\n",
    "    return d_wall, a_wall"
   ]
  },
  {
   "cell_type": "code",
   "execution_count": 3,
   "metadata": {},
   "outputs": [],
   "source": [
    "def min_dist_angle_circular(position, direction, box_size):\n",
    "    #which wall is it close to?\n",
    "    x, y = position\n",
    "    r = np.sqrt(x**2 + y**2)\n",
    "    d_wall = box_size - r\n",
    "\n",
    "    # find nearest point on circle\n",
    "    x_circ = x*box_size / r\n",
    "    y_circ = y*box_size / r\n",
    "\n",
    "    # compute angle to this point\n",
    "    theta = np.arctan2(y_circ, x_circ) % (2*np.pi)\n",
    "\n",
    "    # subtract from head direction to get a_wall\n",
    "    a_wall = direction - theta\n",
    "    a_wall = (a_wall + np.pi) % (2*np.pi) - np.pi\n",
    "    \n",
    "    return d_wall, a_wall"
   ]
  },
  {
   "cell_type": "code",
   "execution_count": 5,
   "metadata": {},
   "outputs": [],
   "source": [
    "# Set up trajectory params\n",
    "dt = 0.02  # time step increment (seconds)\n",
    "samples = int(2/dt) + 1  # number of time points\n",
    "box_size = 1.1 #meters\n",
    "border_region = 0.03  # meters\n",
    "\n",
    "turn_angle = 0\n",
    "\n",
    "mu = 0\n",
    "sigma = 5.76#stdev rotation velocity (rads/sec)\n",
    "b = 0.13  #forward velocity rayleigh dist scale (m/sec)"
   ]
  },
  {
   "cell_type": "code",
   "execution_count": 6,
   "metadata": {
    "scrolled": false
   },
   "outputs": [],
   "source": [
    "# random velocity samples\n",
    "def generate_trajectory():\n",
    "    v = np.random.rayleigh(b);\n",
    "    #initialize variables\n",
    "    position = np.zeros([samples+1, 2])\n",
    "    head_dir = np.zeros(samples+1)\n",
    "    turning = np.zeros(samples+1, dtype='bool')\n",
    "    \n",
    "#     # For generating circular trajectory\n",
    "#     init_rad = np.random.uniform(0, 1.1)\n",
    "#     init_ang = np.random.uniform(0, 2*np.pi)\n",
    "    \n",
    "    position[0] = np.random.uniform(-box_size, box_size, 2)\n",
    "    head_dir[0] = np.random.uniform(0,2*np.pi)\n",
    "    ego_v = np.zeros(samples+1)\n",
    "    \n",
    "    #generate sequence of random boosts and turns\n",
    "    random_turn = np.random.normal(mu, sigma, samples+1)\n",
    "    random_vel = np.random.rayleigh(b, samples+1)\n",
    "    \n",
    "    for i in range(1,samples+1):\n",
    "        #If in border region, turn and slow down\n",
    "        d_wall, a_wall = min_dist_angle(position[i-1], head_dir[i-1] % (2*np.pi), box_size)\n",
    "        if d_wall < border_region and np.abs(a_wall) < np.pi/2:\n",
    "            turning[i-1] = 1 \n",
    "            turn_angle = np.sign(a_wall)* (np.pi/2 - np.abs(a_wall)) + dt*random_turn[i]\n",
    "            v = 0.25*v\n",
    "        else:\n",
    "            v = random_vel[i]\n",
    "            turn_angle = dt*random_turn[i]\n",
    "        #Take a step\n",
    "        ego_v[i-1] = v*dt\n",
    "        position[i] = position[i-1] + ego_v[i-1]*np.asarray([np.cos(head_dir[i-1]), np.sin(head_dir[i-1])])\n",
    "        #Rotate head direction\n",
    "        head_dir[i] = (head_dir[i-1] + turn_angle) \n",
    "    ang_velocity = np.diff(head_dir)\n",
    "    theta_x, theta_y = np.cos(ang_velocity), np.sin(ang_velocity)\n",
    "    head_dir = (head_dir +np.pi) % (2*np.pi) - np.pi #Constrain head_dir to interval (-pi, pi)\n",
    "    return position[:-1,0], position[:-1, 1], head_dir[:-1], ego_v[:-1], theta_x, theta_y, turning[:-1]"
   ]
  },
  {
   "cell_type": "code",
   "execution_count": 7,
   "metadata": {},
   "outputs": [
    {
     "data": {
      "image/png": "[encoded data removed]",
      "text/plain": [
       "<Figure size 576x576 with 1 Axes>"
      ]
     },
     "metadata": {},
     "output_type": "display_data"
    }
   ],
   "source": [
    "plt.figure(figsize=(8,8))\n",
    "for i in range(10):\n",
    "    sample_traj = generate_trajectory()\n",
    "    x = sample_traj[0]\n",
    "    y = sample_traj[1]\n",
    "    turning = sample_traj[-1]\n",
    "    plt.plot(x, y)\n",
    "    plt.scatter(x[turning], y[turning], c='red')\n",
    "    \n",
    "plt.axis(\"equal\")    \n",
    "t = np.linspace(-np.pi, np.pi, 100)\n",
    "# plt.plot(box_size*np.cos(t), box_size*np.sin(t))"
   ]
  },
  {
   "cell_type": "code",
   "execution_count": 39,
   "metadata": {},
   "outputs": [],
   "source": [
    "import os\n",
    "os.mkdir('ben_100_slow_10_boxes')"
   ]
  },
  {
   "cell_type": "code",
   "execution_count": 37,
   "metadata": {},
   "outputs": [],
   "source": [
    "box_sizes = 1.1 * np.linspace(0.2,2, 10)\n",
    "np.random.shuffle(box_sizes)"
   ]
  },
  {
   "cell_type": "code",
   "execution_count": 8,
   "metadata": {},
   "outputs": [
    {
     "data": {
      "application/vnd.jupyter.widget-view+json": {
       "model_id": "ff3e3c35973e464b86305d78fa6e6100",
       "version_major": 2,
       "version_minor": 0
      },
      "text/plain": [
       "HBox(children=(IntProgress(value=0), HTML(value=u'')))"
      ]
     },
     "metadata": {},
     "output_type": "display_data"
    },
    {
     "name": "stdout",
     "output_type": "stream",
     "text": [
      "\n"
     ]
    }
   ],
   "source": [
    "# Generate dataset\n",
    "def _floats_feature(value):\n",
    "    return tf.train.Feature(float_list=tf.train.FloatList(value=value))\n",
    "\n",
    "num_files = 100\n",
    "num_trajectories = 100\n",
    "for i in tqdm(range(num_files)):\n",
    "    root = ''\n",
    "    filename = root + 'ben_100_slow/' + str(i) + '.tfrecord'\n",
    "#     box_size = 1.1\n",
    "#     box_size = box_sizes[i]\n",
    "#     sigma = 5.76 * np.mod(i, 2)\n",
    "    with tf.python_io.TFRecordWriter(filename) as writer:\n",
    "        for j in range(num_trajectories):\n",
    "            traj = np.asarray(generate_trajectory())\n",
    "#             traj = traj[:,::10] # Decimate to approximately match deepmind\n",
    "\n",
    "            feature = {\n",
    "                'init_x': _floats_feature([traj[0][0]]),\n",
    "                'init_y': _floats_feature([traj[1][0]]),\n",
    "                'init_hd': _floats_feature([traj[2][0]]),\n",
    "                'ego_v': _floats_feature(traj[3][:-1]),\n",
    "                'theta_x': _floats_feature(traj[4][:-1]),\n",
    "                'theta_y': _floats_feature(traj[5][:-1]),\n",
    "                'target_x': _floats_feature(traj[0][1:]),\n",
    "                'target_y': _floats_feature(traj[1][1:]),\n",
    "                'target_hd': _floats_feature(traj[2][1:])\n",
    "            }\n",
    "\n",
    "            example = tf.train.Example(features=tf.train.Features(feature=feature))\n",
    "            writer.write(example.SerializeToString())\n"
   ]
  },
  {
   "cell_type": "code",
   "execution_count": null,
   "metadata": {},
   "outputs": [],
   "source": []
  }
 ],
 "metadata": {
  "kernelspec": {
   "display_name": "Python 2",
   "language": "python",
   "name": "python2"
  },
  "language_info": {
   "codemirror_mode": {
    "name": "ipython",
    "version": 2
   },
   "file_extension": ".py",
   "mimetype": "text/x-python",
   "name": "python",
   "nbconvert_exporter": "python",
   "pygments_lexer": "ipython2",
   "version": "2.7.12"
  }
 },
 "nbformat": 4,
 "nbformat_minor": 2
}
