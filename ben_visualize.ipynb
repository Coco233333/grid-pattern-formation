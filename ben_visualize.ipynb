{
 "cells": [
  {
   "cell_type": "code",
   "execution_count": 1,
   "metadata": {},
   "outputs": [
    {
     "name": "stderr",
     "output_type": "stream",
     "text": [
      "/Users/bensorscher/anaconda3/lib/python3.6/site-packages/h5py/__init__.py:36: FutureWarning: Conversion of the second argument of issubdtype from `float` to `np.floating` is deprecated. In future, it will be treated as `np.float64 == np.dtype(float).type`.\n",
      "  from ._conv import register_converters as _register_converters\n"
     ]
    }
   ],
   "source": [
    "import matplotlib.pyplot as plt\n",
    "import numpy as np\n",
    "import tensorflow as tf\n",
    "import seaborn as sns\n",
    "sns.set()\n",
    "\n",
    "%matplotlib inline"
   ]
  },
  {
   "cell_type": "code",
   "execution_count": 2,
   "metadata": {},
   "outputs": [],
   "source": [
    "from model import Model\n",
    "from data_manager import DataManager\n",
    "from hd_cells import HDCells\n",
    "from place_cells import PlaceCells"
   ]
  },
  {
   "cell_type": "code",
   "execution_count": 3,
   "metadata": {},
   "outputs": [],
   "source": [
    "def load_checkpoints(sess):\n",
    "    saver = tf.train.Saver(max_to_keep=2)\n",
    "    save_dir = \"./saved\"\n",
    "    checkpoint_dir = save_dir + \"/checkpoints\"\n",
    "    \n",
    "    checkpoint = tf.train.get_checkpoint_state(checkpoint_dir)\n",
    "    if checkpoint and checkpoint.model_checkpoint_path:\n",
    "        saver.restore(sess, checkpoint.model_checkpoint_path)"
   ]
  },
  {
   "cell_type": "code",
   "execution_count": 4,
   "metadata": {
    "scrolled": true
   },
   "outputs": [
    {
     "name": "stdout",
     "output_type": "stream",
     "text": [
      "WARNING:tensorflow:From /Users/bensorscher/mouse2/deepmind_LSTM/model.py:31: BasicLSTMCell.__init__ (from tensorflow.python.ops.rnn_cell_impl) is deprecated and will be removed in a future version.\n",
      "Instructions for updating:\n",
      "This class is deprecated, please use tf.nn.rnn_cell.LSTMCell, which supports all the feature this cell currently has. Please replace the existing code with tf.nn.rnn_cell.LSTMCell(name='basic_lstm_cell').\n",
      "WARNING:tensorflow:From /Users/bensorscher/mouse2/deepmind_LSTM/model.py:66: softmax_cross_entropy_with_logits (from tensorflow.python.ops.nn_ops) is deprecated and will be removed in a future version.\n",
      "Instructions for updating:\n",
      "\n",
      "Future major versions of TensorFlow will allow gradients to flow\n",
      "into the labels input on backprop by default.\n",
      "\n",
      "See `tf.nn.softmax_cross_entropy_with_logits_v2`.\n",
      "\n",
      "INFO:tensorflow:Restoring parameters from ./saved/checkpoints/checkpoint-35999\n"
     ]
    }
   ],
   "source": [
    "np.random.seed(1)\n",
    "\n",
    "sequence_length = 100\n",
    "data_manager = DataManager()\n",
    "place_cells = PlaceCells()\n",
    "hd_cells = HDCells()\n",
    "data_manager.prepare(place_cells, hd_cells)\n",
    "\n",
    "model = Model(place_cell_size=place_cells.cell_size,\n",
    "                          hd_cell_size=hd_cells.cell_size,\n",
    "                          sequence_length=sequence_length)\n",
    "\n",
    "sess = tf.Session()\n",
    "sess.run(tf.global_variables_initializer())\n",
    "\n",
    "# Load checkpoints\n",
    "load_checkpoints(sess)"
   ]
  },
  {
   "cell_type": "code",
   "execution_count": 5,
   "metadata": {
    "scrolled": true
   },
   "outputs": [],
   "source": [
    "def get_trajectory(index, batch_size, condition='train'):\n",
    "\n",
    "    # get predicted place cells outputs\n",
    "    out = data_manager.get_confirm_batch(batch_size, sequence_length, index, condition)\n",
    "    inputs_batch, place_init_batch, hd_init_batch, \\\n",
    "        place_pos_batch, head_dir_batch, place_cells_batch, hd_cells_batch = out\n",
    "    place_outputs_result, hd_outputs_result = sess.run(\n",
    "                                                [model.place_outputs_result, \n",
    "                                                 model.hd_outputs_result],\n",
    "                                                feed_dict = {\n",
    "                                                    model.inputs : inputs_batch,\n",
    "                                                    model.place_init : place_init_batch,\n",
    "                                                    model.hd_init : hd_init_batch,\n",
    "                                                    model.keep_prob : 1.0\n",
    "                                                })\n",
    "    # Place cells\n",
    "    # reshape over batch\n",
    "    place_cells_batch = np.reshape(place_cells_batch, [-1, place_cells_batch.shape[-1]])\n",
    "    place_pos_batch = np.reshape(place_pos_batch, [-1, 2])\n",
    "\n",
    "    # get predicted place cell outputs\n",
    "    place_cells_predicted = []\n",
    "    for c in place_outputs_result:\n",
    "        cell_pos = place_cells.get_nearest_cell_pos(c)\n",
    "        place_cells_predicted.append(cell_pos)\n",
    "    place_cells_predicted = np.asarray(place_cells_predicted)\n",
    "\n",
    "    # get ground truth place cell outputs\n",
    "    place_cells_gt = []\n",
    "    for c in place_cells_batch:\n",
    "        cell_pos = place_cells.get_nearest_cell_pos(c)\n",
    "        place_cells_gt.append(cell_pos)\n",
    "    place_cells_gt = np.asarray(place_cells_gt)\n",
    "\n",
    "    # get ground truth positions\n",
    "    pos = place_pos_batch\n",
    "    \n",
    "    #HD cells\n",
    "    # reshape over batch\n",
    "    hd_cells_batch = np.reshape(hd_cells_batch, [-1, hd_cells_batch.shape[-1]])\n",
    "    head_dir_batch = np.reshape(head_dir_batch, -1)\n",
    "\n",
    "    # get predicted place cell outputs\n",
    "    hd_cells_predicted = []\n",
    "    for hd in hd_outputs_result:\n",
    "        head_pos = hd_cells.get_nearest_hd(hd)\n",
    "        hd_cells_predicted.append(head_pos)\n",
    "    hd_cells_predicted = np.asarray(hd_cells_predicted)\n",
    "\n",
    "    # get ground truth place cell outputs\n",
    "    hd_cells_gt = []\n",
    "    for hd in hd_cells_batch:\n",
    "        head_pos = hd_cells.get_nearest_hd(hd)\n",
    "        hd_cells_gt.append(head_pos)\n",
    "    hd_cells_gt = np.asarray(hd_cells_gt)\n",
    "\n",
    "    # get ground truth positions\n",
    "    head_dir = head_dir_batch\n",
    "    \n",
    "    return pos, place_cells_gt, place_cells_predicted, head_dir, hd_cells_gt, hd_cells_predicted"
   ]
  },
  {
   "cell_type": "markdown",
   "metadata": {},
   "source": [
    "## Visualize batch"
   ]
  },
  {
   "cell_type": "code",
   "execution_count": 26,
   "metadata": {},
   "outputs": [],
   "source": [
    "inputs_batch, place_outputs_batch, hd_outputs_batch, \\\n",
    "            place_init_batch, hd_init_batch, pos_batch, head_dir_batch = data_manager.get_demo_batch(50, 100)\n",
    "pos_batch = np.reshape(pos_batch, [-1,2])"
   ]
  },
  {
   "cell_type": "code",
   "execution_count": 27,
   "metadata": {},
   "outputs": [],
   "source": [
    "starting_points = np.zeros([50,2])\n",
    "for i, c in enumerate(place_init_batch[:,0,:]):\n",
    "    starting_points[i,:] = place_cells.get_nearest_cell_pos(c)"
   ]
  },
  {
   "cell_type": "code",
   "execution_count": 28,
   "metadata": {},
   "outputs": [
    {
     "data": {
      "text/plain": [
       "<matplotlib.collections.PathCollection at 0x1b33277518>"
      ]
     },
     "execution_count": 28,
     "metadata": {},
     "output_type": "execute_result"
    },
    {
     "data": {
      "image/png": "[encoded data removed]",
      "text/plain": [
       "<Figure size 432x288 with 1 Axes>"
      ]
     },
     "metadata": {},
     "output_type": "display_data"
    }
   ],
   "source": [
    "plt.plot(pos_batch[:1000,0], pos_batch[:1000,1])\n",
    "plt.scatter(starting_points[:,0], starting_points[:,1], c='r')"
   ]
  },
  {
   "cell_type": "code",
   "execution_count": 26,
   "metadata": {},
   "outputs": [
    {
     "data": {
      "text/plain": [
       "<matplotlib.collections.PathCollection at 0x1a4ceedfd0>"
      ]
     },
     "execution_count": 26,
     "metadata": {},
     "output_type": "execute_result"
    },
    {
     "data": {
      "image/png": "[encoded data removed]",
      "text/plain": [
       "<Figure size 432x288 with 1 Axes>"
      ]
     },
     "metadata": {},
     "output_type": "display_data"
    }
   ],
   "source": [
    "plt.scatter(starting_points[:,0], starting_points[:,1], c='r')"
   ]
  },
  {
   "cell_type": "code",
   "execution_count": 21,
   "metadata": {},
   "outputs": [
    {
     "data": {
      "text/plain": [
       "(10, 256)"
      ]
     },
     "execution_count": 21,
     "metadata": {},
     "output_type": "execute_result"
    }
   ],
   "source": [
    "place_init_batch[:,0,:].shape"
   ]
  },
  {
   "cell_type": "code",
   "execution_count": 11,
   "metadata": {},
   "outputs": [
    {
     "data": {
      "text/plain": [
       "(5000, 2)"
      ]
     },
     "execution_count": 11,
     "metadata": {},
     "output_type": "execute_result"
    }
   ],
   "source": []
  },
  {
   "cell_type": "markdown",
   "metadata": {},
   "source": [
    "## Visualize head direction"
   ]
  },
  {
   "cell_type": "code",
   "execution_count": null,
   "metadata": {},
   "outputs": [],
   "source": [
    "# plot\n",
    "num_plots = 9\n",
    "index_offset = 0\n",
    "plt.figure(figsize=(15, 4*num_plots//3))\n",
    "for i in range(num_plots):\n",
    "    _,_,_, head_dir, hd_cells_gt, hd_cells_predicted = get_trajectory(i+index_offset, 3)\n",
    "    plt.subplot(num_plots//3, 3, i+1)\n",
    "#     plt.plot(head_dir)\n",
    "    plt.plot(hd_cells_gt)\n",
    "    plt.plot(hd_cells_predicted)\n",
    "plt.show()"
   ]
  },
  {
   "cell_type": "markdown",
   "metadata": {},
   "source": [
    "## Visualize trajectory"
   ]
  },
  {
   "cell_type": "code",
   "execution_count": null,
   "metadata": {
    "scrolled": false
   },
   "outputs": [],
   "source": [
    "# plot\n",
    "num_plots = 27\n",
    "index_offset = 0\n",
    "plt.figure(figsize=(15, 5*num_plots//3))\n",
    "for i in range(num_plots):\n",
    "    pos, place_cells_gt, place_cells_predicted, _, _, _ = get_trajectory(i + index_offset, 1, 'train')\n",
    "    plt.subplot(num_plots//3, 3, i+1)\n",
    "    plt.plot(pos[:,0], pos[:,1])\n",
    "    plt.plot(place_cells_gt[:,0], place_cells_gt[:,1], \"o-\")\n",
    "    plt.plot(place_cells_predicted[1:,0], place_cells_predicted[1:,1], \"o-\")\n",
    "    plt.ylim(-1.1, 1.1)\n",
    "    plt.xlim(-1.1, 1.1)\n",
    "plt.show()"
   ]
  },
  {
   "cell_type": "markdown",
   "metadata": {},
   "source": [
    "## Visualize grid cells"
   ]
  },
  {
   "cell_type": "code",
   "execution_count": null,
   "metadata": {},
   "outputs": [],
   "source": [
    "batch_size = 10\n",
    "sequence_length = 100\n",
    "resolution = 20\n",
    "maze_extents = 1.1\n",
    "\n",
    "activations = np.zeros([512, resolution, resolution], dtype=np.float32) # (512, 32, 32)\n",
    "counts  = np.zeros([resolution, resolution], dtype=np.int32)        # (32, 32)\n",
    "\n",
    "index_size = data_manager.get_confirm_index_size(batch_size, sequence_length)\n",
    "\n",
    "for index in range(index_size):\n",
    "    out = data_manager.get_confirm_batch(batch_size, sequence_length, index)\n",
    "    inputs_batch, place_init_batch, hd_init_batch, \\\n",
    "        place_pos_batch, head_dir_batch, place_cells_batch, hd_cells_batch = out\n",
    "            \n",
    "    place_pos_batch = np.reshape(place_pos_batch, [-1, 2])\n",
    "    # (1000, 2)\n",
    "    \n",
    "    g = sess.run(\n",
    "            model.g,\n",
    "            feed_dict = {\n",
    "                model.inputs : inputs_batch,\n",
    "                model.place_init : place_init_batch,\n",
    "                model.hd_init : hd_init_batch\n",
    "            })\n",
    "    \n",
    "        \n",
    "    for i in range(batch_size * sequence_length):\n",
    "        pos_x = place_pos_batch[i,0]\n",
    "        pos_z = place_pos_batch[i,1]\n",
    "        x = (pos_x + maze_extents) / (maze_extents * 2) * resolution\n",
    "        z = (pos_z + maze_extents) / (maze_extents * 2) * resolution\n",
    "        if x >=0 and x < resolution and z >=0 and z < resolution:\n",
    "            counts[int(x), int(z)] += 1\n",
    "            activations[:, int(x), int(z)] += np.abs(g[i, :])\n",
    "\n",
    "for x in range(resolution):\n",
    "    for y in range(resolution):\n",
    "        if counts[x, y] > 0:\n",
    "            activations[:, x, y] /= counts[x, y]\n"
   ]
  },
  {
   "cell_type": "code",
   "execution_count": null,
   "metadata": {},
   "outputs": [],
   "source": [
    "activations = (activations - np.min(activations)) / (np.max(activations) - np.min(activations))\n",
    "\n",
    "hidden_size = 512\n",
    "# hidden_size = 64\n",
    "\n",
    "plt.figure(figsize=(15, int(30 * hidden_size / 128)))\n",
    "for i in range(hidden_size):\n",
    "    plt.subplot(hidden_size//8, 8, 1 + i)\n",
    "    plt.title('Unit ' + str(i))\n",
    "    plt.imshow(activations[i,:,:], interpolation=\"gaussian\", cmap=\"jet\")\n",
    "    plt.axis('off')    \n",
    "plt.show()"
   ]
  },
  {
   "cell_type": "code",
   "execution_count": null,
   "metadata": {},
   "outputs": [],
   "source": [
    "import scipy\n",
    "from scipy.signal import correlate2d"
   ]
  },
  {
   "cell_type": "code",
   "execution_count": null,
   "metadata": {},
   "outputs": [],
   "source": [
    "acorrs = np.zeros([hidden_size, 39, 39])\n",
    "for index in range(hidden_size):\n",
    "    acorrs[index,:,:] = correlate2d(activations[index], activations[index], boundary='wrap')\n",
    "    \n",
    "plt.figure(figsize=(15, int(30 * 2* hidden_size / 128)))\n",
    "for i in range(hidden_size):\n",
    "    plt.subplot(2*hidden_size//8, 8, 1 + 2*i)\n",
    "    plt.title('Unit ' + str(i))\n",
    "    plt.imshow(activations[i,:,:], interpolation=\"gaussian\", cmap=\"jet\")\n",
    "    plt.axis('off') \n",
    "    plt.subplot(2*hidden_size//8, 8, 2 + 2*i)\n",
    "    plt.imshow(acorrs[i,:,:], interpolation=\"gaussian\", cmap=\"jet\")\n",
    "    plt.axis('off')    \n",
    "plt.show()"
   ]
  },
  {
   "cell_type": "code",
   "execution_count": null,
   "metadata": {},
   "outputs": [],
   "source": []
  }
 ],
 "metadata": {
  "kernelspec": {
   "display_name": "Python 3",
   "language": "python",
   "name": "python3"
  },
  "language_info": {
   "codemirror_mode": {
    "name": "ipython",
    "version": 3
   },
   "file_extension": ".py",
   "mimetype": "text/x-python",
   "name": "python",
   "nbconvert_exporter": "python",
   "pygments_lexer": "ipython3",
   "version": "3.6.4"
  }
 },
 "nbformat": 4,
 "nbformat_minor": 2
}
