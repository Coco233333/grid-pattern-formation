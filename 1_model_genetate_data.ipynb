{
 "cells": [
  {
   "cell_type": "code",
   "execution_count": 1,
   "metadata": {},
   "outputs": [
    {
     "name": "stderr",
     "output_type": "stream",
     "text": [
      "\n",
      "Bad key savefig.frameon in file /home/yuling/miniconda3/envs/gridRNN/lib/python3.6/site-packages/matplotlib/mpl-data/stylelib/_classic_test.mplstyle, line 421 ('savefig.frameon : True')\n",
      "You probably need to get an updated matplotlibrc file from\n",
      "https://github.com/matplotlib/matplotlib/blob/v3.3.4/matplotlibrc.template\n",
      "or from the matplotlib source distribution\n",
      "\n",
      "Bad key verbose.level in file /home/yuling/miniconda3/envs/gridRNN/lib/python3.6/site-packages/matplotlib/mpl-data/stylelib/_classic_test.mplstyle, line 472 ('verbose.level  : silent      # one of silent, helpful, debug, debug-annoying')\n",
      "You probably need to get an updated matplotlibrc file from\n",
      "https://github.com/matplotlib/matplotlib/blob/v3.3.4/matplotlibrc.template\n",
      "or from the matplotlib source distribution\n",
      "\n",
      "Bad key verbose.fileo in file /home/yuling/miniconda3/envs/gridRNN/lib/python3.6/site-packages/matplotlib/mpl-data/stylelib/_classic_test.mplstyle, line 473 ('verbose.fileo  : sys.stdout  # a log filename, sys.stdout or sys.stderr')\n",
      "You probably need to get an updated matplotlibrc file from\n",
      "https://github.com/matplotlib/matplotlib/blob/v3.3.4/matplotlibrc.template\n",
      "or from the matplotlib source distribution\n",
      "In /home/yuling/miniconda3/envs/gridRNN/lib/python3.6/site-packages/matplotlib/mpl-data/stylelib/_classic_test.mplstyle: \n",
      "The text.latex.preview rcparam was deprecated in Matplotlib 3.3 and will be removed two minor releases later.\n",
      "In /home/yuling/miniconda3/envs/gridRNN/lib/python3.6/site-packages/matplotlib/mpl-data/stylelib/_classic_test.mplstyle: \n",
      "The mathtext.fallback_to_cm rcparam was deprecated in Matplotlib 3.3 and will be removed two minor releases later.\n",
      "In /home/yuling/miniconda3/envs/gridRNN/lib/python3.6/site-packages/matplotlib/mpl-data/stylelib/_classic_test.mplstyle: Support for setting the 'mathtext.fallback_to_cm' rcParam is deprecated since 3.3 and will be removed two minor releases later; use 'mathtext.fallback : 'cm' instead.\n",
      "In /home/yuling/miniconda3/envs/gridRNN/lib/python3.6/site-packages/matplotlib/mpl-data/stylelib/_classic_test.mplstyle: \n",
      "The validate_bool_maybe_none function was deprecated in Matplotlib 3.3 and will be removed two minor releases later.\n",
      "In /home/yuling/miniconda3/envs/gridRNN/lib/python3.6/site-packages/matplotlib/mpl-data/stylelib/_classic_test.mplstyle: \n",
      "The savefig.jpeg_quality rcparam was deprecated in Matplotlib 3.3 and will be removed two minor releases later.\n",
      "In /home/yuling/miniconda3/envs/gridRNN/lib/python3.6/site-packages/matplotlib/mpl-data/stylelib/_classic_test.mplstyle: \n",
      "The keymap.all_axes rcparam was deprecated in Matplotlib 3.3 and will be removed two minor releases later.\n",
      "In /home/yuling/miniconda3/envs/gridRNN/lib/python3.6/site-packages/matplotlib/mpl-data/stylelib/_classic_test.mplstyle: \n",
      "The animation.avconv_path rcparam was deprecated in Matplotlib 3.3 and will be removed two minor releases later.\n",
      "In /home/yuling/miniconda3/envs/gridRNN/lib/python3.6/site-packages/matplotlib/mpl-data/stylelib/_classic_test.mplstyle: \n",
      "The animation.avconv_args rcparam was deprecated in Matplotlib 3.3 and will be removed two minor releases later.\n"
     ]
    }
   ],
   "source": [
    "import numpy as np\n",
    "import torch\n",
    "\n",
    "from tqdm import tqdm\n",
    "from matplotlib import pyplot as plt\n",
    "\n",
    "import seaborn as sns\n",
    "\n",
    "%load_ext autoreload\n",
    "%autoreload 2"
   ]
  },
  {
   "cell_type": "code",
   "execution_count": 2,
   "metadata": {},
   "outputs": [],
   "source": [
    "# If GPUs available, select which to train on\n",
    "import os\n",
    "os.environ[\"CUDA_DEVICE_ORDER\"]=\"PCI_BUS_ID\"\n",
    "os.environ[\"CUDA_VISIBLE_DEVICES\"]=\"0\""
   ]
  },
  {
   "cell_type": "code",
   "execution_count": 3,
   "metadata": {},
   "outputs": [],
   "source": [
    "from utils import generate_run_ID, load_trained_weights\n",
    "from place_cells import PlaceCells\n",
    "from trajectory_generator import TrajectoryGenerator\n",
    "from model import RNN\n",
    "from trainer import Trainer"
   ]
  },
  {
   "cell_type": "code",
   "execution_count": 4,
   "metadata": {},
   "outputs": [],
   "source": [
    "# Training options and hyperparameters\n",
    "class Options:\n",
    "    pass\n",
    "options = Options()\n",
    "\n",
    "options.save_dir = '/home/yuling/grid-pattern-formation/models'\n",
    "options.n_steps = 100000      # number of training steps\n",
    "options.batch_size = 200      # number of trajectories per batch\n",
    "options.sequence_length = 20  # number of steps in trajectory\n",
    "options.learning_rate = 1e-4  # gradient descent learning rate\n",
    "options.Np = 512              # number of place cells\n",
    "options.Ng = 4096             # number of grid cells\n",
    "options.place_cell_rf = 0.12  # width of place cell center tuning curve (m)\n",
    "options.surround_scale = 2    # if DoG, ratio of sigma2^2 to sigma1^2\n",
    "options.RNN_type = 'RNN'      # RNN or LSTM\n",
    "options.activation = 'relu'   # recurrent nonlinearity\n",
    "options.weight_decay = 1e-4   # strength of weight decay on recurrent weights\n",
    "options.DoG = True            # use difference of gaussians tuning curves # ?\n",
    "options.periodic = False      # trajectories with periodic boundary conditions\n",
    "options.box_width = 2.2       # width of training environment\n",
    "options.box_height = 2.2      # height of training environment\n",
    "\n",
    "options.run_ID = generate_run_ID(options)\n",
    "options.device = 'cpu'"
   ]
  },
  {
   "cell_type": "code",
   "execution_count": 5,
   "metadata": {},
   "outputs": [
    {
     "name": "stdout",
     "output_type": "stream",
     "text": [
      "Initializing new model from scratch.\n",
      "Saving to: /home/yuling/grid-pattern-formation/models/steps_20_batch_200_RNN_4096_relu_rf_012_DoG_True_periodic_False_lr_00001_weight_decay_00001\n"
     ]
    }
   ],
   "source": [
    "# If you've trained with these params before, will restore trained model\n",
    "place_cells = PlaceCells(options)\n",
    "model = RNN(options, place_cells) #.cuda()\n",
    "trajectory_generator = TrajectoryGenerator(options, place_cells)\n",
    "trainer = Trainer(options, model, trajectory_generator)"
   ]
  },
  {
   "cell_type": "code",
   "execution_count": 6,
   "metadata": {},
   "outputs": [
    {
     "name": "stdout",
     "output_type": "stream",
     "text": [
      "Epoch: 0/1. Step 0/1. Loss: 6.37. Err: 97.32cm\n",
      "Loaded trained weights.\n"
     ]
    }
   ],
   "source": [
    "# Load example weights stored on github\n",
    "weight_dir = options.save_dir + '/example_trained_weights.npy'\n",
    "load_trained_weights(model, trainer, weight_dir)"
   ]
  },
  {
   "cell_type": "markdown",
   "metadata": {},
   "source": [
    "# Ratemaps"
   ]
  },
  {
   "cell_type": "code",
   "execution_count": 7,
   "metadata": {},
   "outputs": [],
   "source": [
    "from visualize import compute_ratemaps, plot_ratemaps\n",
    "res = 50\n",
    "n_avg = 100\n",
    "Ng = options.Ng\n",
    "activations, rate_map, g, pos, activations_theta = compute_ratemaps(model,\n",
    "                                                 trajectory_generator,\n",
    "                                                 options,\n",
    "                                                 res=res,\n",
    "                                                 n_avg=n_avg,\n",
    "                                                 Ng=Ng)\n",
    "\n",
    "# Compute a set of lo-res maps to use for evalutaing grid score\n",
    "lo_res = 20 # low resolution\n",
    "_, rate_map_lores, _, _, _ = compute_ratemaps(model,\n",
    "                                         trajectory_generator,\n",
    "                                         options,\n",
    "                                         res=lo_res,\n",
    "                                         n_avg=n_avg,\n",
    "                                         Ng=Ng)"
   ]
  },
  {
   "cell_type": "code",
   "execution_count": null,
   "metadata": {},
   "outputs": [],
   "source": [
    "# np.save('./data/rate_map.npy', rate_map)\n",
    "# np.save('./data/activations.npy', activations)\n",
    "# np.save('./data/activations_theta.npy', activations_theta)\n",
    "# np.save('./data/rate_map_lores.npy', rate_map_lores)"
   ]
  },
  {
   "cell_type": "markdown",
   "metadata": {},
   "source": [
    "# Band scores"
   ]
  },
  {
   "cell_type": "code",
   "execution_count": 9,
   "metadata": {},
   "outputs": [],
   "source": [
    "import numpy as np\n",
    "import matplotlib.pyplot as plt\n",
    "import numpy.fft as nf\n",
    "from scipy.optimize import curve_fit\n",
    "\n",
    "def band_score(rate,res):\n",
    "    X,Y = np.meshgrid(np.linspace(-2,2,res),np.linspace(-2,2,res))\n",
    "    x_flat,y_flat = X.flatten(), Y.flatten()\n",
    "    loc = np.stack([x_flat,y_flat])\n",
    "\n",
    "    # 计算频谱\n",
    "    def spectrum(ratemap):\n",
    "        res = ratemap.shape[0]\n",
    "        fft_rate = np.abs(nf.fftshift(nf.fft2(ratemap)))\n",
    "        fft_rate[:int(res/2),:] = 0\n",
    "        return fft_rate\n",
    "    ratemap = rate.reshape(res,res)\n",
    "    fft_rate = spectrum(ratemap)\n",
    "\n",
    "    # 定义高斯函数\n",
    "    def gaussian(loc, A, k, phi, sigma):\n",
    "        x = loc[0]\n",
    "        y = loc[1]\n",
    "        return A * np.exp(-((x - k*np.cos(phi))**2 / (2 * sigma**2) + (y - k*np.sin(phi))**2 / (2 * sigma**2)))\n",
    "\n",
    "    initial_guess = [1.0, 0.2, 0.0, 0.1]\n",
    "\n",
    "    try:\n",
    "        params, _ = curve_fit(lambda xy, A, k, phi, sigma: gaussian(xy, A, k, phi, sigma), \n",
    "                                (loc), \n",
    "                                fft_rate.ravel(), \n",
    "                                p0=initial_guess, \n",
    "                                bounds=([0, 0.2, 0, 0.05], [np.inf, 1, np.pi, 0.5]),\n",
    "                                maxfev=1000)  # 增加最大函数评估次数\n",
    "    except RuntimeError as e:\n",
    "        # print(\"Warning:\", e)\n",
    "        # 使用 `full_output=True` 调用 leastsq 获取最后一步的参数\n",
    "        from scipy.optimize import leastsq\n",
    "        params, _, _, _, _ = leastsq(\n",
    "            lambda xy: fft_rate.ravel() - gaussian(loc, *xy), initial_guess or np.ones(len(initial_guess)), full_output=True, maxfev=1000\n",
    "        )\n",
    "        # print(\"Returning last known parameters:\", params)\n",
    "    # return popt, pcov\n",
    "    dx = 4.4/res\n",
    "    k0 = params[1]\n",
    "    phi = params[2]\n",
    "    sigma = params[3]\n",
    "    kx = k0*np.cos(phi)/2*(1/dx/2)*np.pi*2\n",
    "    ky = k0*np.sin(phi)/2*(1/dx/2)*np.pi*2\n",
    "    k = np.sqrt(kx**2+ky**2)# The maximum frequency is 1/dx, correspoding k = np.pi*2/dx\n",
    "    # print(params)\n",
    "    gx = gaussian(loc, params[0], params[1], params[2], params[3])\n",
    "\n",
    "    # 计算相关性\n",
    "    band_scores = np.dot(fft_rate.ravel(), gx.ravel()) / (1e-8+np.linalg.norm(fft_rate.ravel()) * np.linalg.norm(gx.ravel())) / sigma\n",
    "\n",
    "    return band_scores, ratemap, params, fft_rate, gx, k, phi, sigma\n"
   ]
  },
  {
   "cell_type": "code",
   "execution_count": 10,
   "metadata": {},
   "outputs": [
    {
     "name": "stderr",
     "output_type": "stream",
     "text": [
      "  0%|          | 8/4096 [00:00<00:55, 73.96it/s]"
     ]
    },
    {
     "name": "stdout",
     "output_type": "stream",
     "text": [
      "(4096, 2500)\n"
     ]
    },
    {
     "name": "stderr",
     "output_type": "stream",
     "text": [
      "100%|██████████| 4096/4096 [00:54<00:00, 75.82it/s]\n"
     ]
    }
   ],
   "source": [
    "from tqdm import tqdm\n",
    "import numpy as np\n",
    "\n",
    "res = 50\n",
    "\n",
    "data = np.load('./data/rate_map.npy')\n",
    "print(data.shape)\n",
    "Ng = data.shape[0]\n",
    "T = data.shape[1]\n",
    "score = np.zeros(Ng,)\n",
    "k = np.zeros(Ng,)\n",
    "phi = np.zeros(Ng,)\n",
    "sigma = np.zeros(Ng,)\n",
    "ratemap = np.zeros([Ng,50,50])\n",
    "for i in tqdm(range(Ng)):\n",
    "    rate = data[i]-np.mean(data[i])\n",
    "    band_scores, rm, params, fft_rate, gx, k[i], phi[i], sigma[i] = band_score(rate,res)\n",
    "    ratemap[i] = rm\n",
    "    score[i] = band_scores"
   ]
  },
  {
   "cell_type": "code",
   "execution_count": null,
   "metadata": {},
   "outputs": [],
   "source": [
    "# np.save('./data/band_score.npy', score)"
   ]
  },
  {
   "cell_type": "markdown",
   "metadata": {},
   "source": [
    "# Grid score"
   ]
  },
  {
   "cell_type": "code",
   "execution_count": null,
   "metadata": {},
   "outputs": [],
   "source": [
    "res = 20"
   ]
  },
  {
   "cell_type": "code",
   "execution_count": null,
   "metadata": {},
   "outputs": [],
   "source": [
    "from scores import GridScorer\n",
    "\n",
    "starts = [0.2] * 10\n",
    "ends = np.linspace(0.4, 1.0, num=10)\n",
    "box_width=options.box_width\n",
    "box_height=options.box_height\n",
    "coord_range=((-box_width/2, box_width/2), (-box_height/2, box_height/2))\n",
    "masks_parameters = zip(starts, ends.tolist())\n",
    "scorer = GridScorer(res, coord_range, masks_parameters)"
   ]
  },
  {
   "cell_type": "code",
   "execution_count": null,
   "metadata": {},
   "outputs": [],
   "source": [
    "rate_map_lores = np.load('./data/rate_map_lores.npy')"
   ]
  },
  {
   "cell_type": "code",
   "execution_count": null,
   "metadata": {},
   "outputs": [],
   "source": [
    "score_60, score_90, max_60_mask, max_90_mask, sac, max_60_ind = zip(\n",
    "      *[scorer.get_scores(rm.reshape(res, res)) for rm in tqdm(rate_map_lores)])"
   ]
  },
  {
   "cell_type": "code",
   "execution_count": null,
   "metadata": {},
   "outputs": [],
   "source": [
    "# np.save('./data/grid_score.npy', score_60)"
   ]
  }
 ],
 "metadata": {
  "kernelspec": {
   "display_name": "gridRNN",
   "language": "python",
   "name": "python3"
  },
  "language_info": {
   "codemirror_mode": {
    "name": "ipython",
    "version": 3
   },
   "file_extension": ".py",
   "mimetype": "text/x-python",
   "name": "python",
   "nbconvert_exporter": "python",
   "pygments_lexer": "ipython3",
   "version": "3.6.13"
  }
 },
 "nbformat": 4,
 "nbformat_minor": 2
}
